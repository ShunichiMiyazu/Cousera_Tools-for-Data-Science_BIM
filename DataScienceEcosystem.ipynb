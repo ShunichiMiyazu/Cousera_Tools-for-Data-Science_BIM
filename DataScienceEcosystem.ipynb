{
 "cells": [
  {
   "cell_type": "code",
   "execution_count": 15,
   "id": "2a687323-fe7f-45ba-b90c-a57ebece7e9c",
   "metadata": {},
   "outputs": [],
   "source": [
    "# Exercise 2: Create markdown cell with title of the notebook"
   ]
  },
  {
   "cell_type": "markdown",
   "id": "11dbec9d-9045-4bd7-9db9-bfca8379fbd8",
   "metadata": {},
   "source": [
    "# Data Science Tools and Ecosystem"
   ]
  },
  {
   "cell_type": "code",
   "execution_count": 16,
   "id": "2b3d4966-845b-4695-88e9-d8c2e2d636a8",
   "metadata": {},
   "outputs": [],
   "source": [
    "# Exercise 3 - Create a markdown cell for an introduction"
   ]
  },
  {
   "cell_type": "markdown",
   "id": "288cbc27-40ec-4061-b802-a46547504fd5",
   "metadata": {},
   "source": [
    "In this notebook, Data Science Tools and Ecosystem are summarized."
   ]
  },
  {
   "cell_type": "code",
   "execution_count": 17,
   "id": "73e1a8b1-d452-4f51-b3c2-49bd7949491b",
   "metadata": {},
   "outputs": [],
   "source": [
    "# Exercise 4 - Create a markdown cell to list data science languages"
   ]
  },
  {
   "cell_type": "markdown",
   "id": "bc7deca7-c46f-47ac-9b9f-66d45f8e4379",
   "metadata": {},
   "source": [
    "Some of the popular languages that Data Scientists use are:\n",
    "1. Python\n",
    "2. R\n",
    "3. SQL"
   ]
  },
  {
   "cell_type": "code",
   "execution_count": 18,
   "id": "f5d8a413-8636-4acc-8885-dbc8cd4a93c7",
   "metadata": {},
   "outputs": [],
   "source": [
    "# Exercise 10 - Insert a markdown cell to list Objectives"
   ]
  },
  {
   "cell_type": "markdown",
   "id": "e28585f6-5232-459d-8886-f847b0f199bc",
   "metadata": {},
   "source": [
    "**Objective**\n",
    "- List popular languages for data science\n",
    "- List common libraries used for data science\n",
    "- List common data science tools\n",
    "- Test a simple numeric expression\n",
    "- Test various useages of markdown expressions"
   ]
  },
  {
   "cell_type": "code",
   "execution_count": 19,
   "id": "2aabf096-aac6-4df3-91be-1953dfa507d8",
   "metadata": {},
   "outputs": [],
   "source": [
    "# Exercise 5 - Create a markdown cell to list data science libraries"
   ]
  },
  {
   "cell_type": "markdown",
   "id": "1bfa0a1c-60c9-44a7-8f0d-d66f875f96d0",
   "metadata": {},
   "source": [
    "Some of the commonly used libraries used by Data Scientists include:\n",
    "1. Pandas\n",
    "2. NumPy\n",
    "3. SciPy\n",
    "4. ggplot\n",
    "5. Matplotlib"
   ]
  },
  {
   "cell_type": "code",
   "execution_count": 20,
   "id": "aba1628a-f832-43fc-87b9-90e166fcb147",
   "metadata": {},
   "outputs": [],
   "source": [
    "# Exercise 6 - Create a markdown cell with a table of Data Science tools"
   ]
  },
  {
   "cell_type": "markdown",
   "id": "2570f289-7722-405d-9166-c2c18d125202",
   "metadata": {},
   "source": [
    "|Data Science Tools|\n",
    "-------\n",
    "Jupyter Notebook\n",
    "Rstudio\n",
    "Jupyter Lab"
   ]
  },
  {
   "cell_type": "code",
   "execution_count": 21,
   "id": "78588ba2-be95-4d25-b645-44934dacd0dc",
   "metadata": {},
   "outputs": [],
   "source": [
    "# Exercise 7 - Create a markdown cell introducing arithmetic expression examples"
   ]
  },
  {
   "cell_type": "markdown",
   "id": "27154e3c-a798-4a2f-8a91-1ca616f3e384",
   "metadata": {},
   "source": [
    "### Below are a few examples of evaluating arithmetic expressions in Python"
   ]
  },
  {
   "cell_type": "code",
   "execution_count": 22,
   "id": "1ace3214-8ebe-4e68-bea0-ae1466f85b5f",
   "metadata": {},
   "outputs": [],
   "source": [
    "# Exercise 8 - Create a code cell to multiply and add numbers"
   ]
  },
  {
   "cell_type": "code",
   "execution_count": 23,
   "id": "87fe78ee-87e9-4f73-8a14-e42b9cc38d58",
   "metadata": {},
   "outputs": [
    {
     "data": {
      "text/plain": [
       "17"
      ]
     },
     "execution_count": 23,
     "metadata": {},
     "output_type": "execute_result"
    }
   ],
   "source": [
    "# This a simple arithmetic expression to mutiply then add integers\n",
    "(3*4)+5"
   ]
  },
  {
   "cell_type": "code",
   "execution_count": 24,
   "id": "063eb793-b3ad-4b0a-98a8-5c153e74957e",
   "metadata": {},
   "outputs": [],
   "source": [
    "# Exercise 9 - Create a code cell to convert minutes to hours"
   ]
  },
  {
   "cell_type": "code",
   "execution_count": 25,
   "id": "a4bf4070-9658-41e9-a598-115f747157c9",
   "metadata": {},
   "outputs": [
    {
     "data": {
      "text/plain": [
       "3.3333333333333335"
      ]
     },
     "execution_count": 25,
     "metadata": {},
     "output_type": "execute_result"
    }
   ],
   "source": [
    "# This will convert 200 minutes to hours by diving by 60\n",
    "200/60"
   ]
  },
  {
   "cell_type": "code",
   "execution_count": 26,
   "id": "ec0bf09f-70fd-4bcf-9a89-e9809fc8915c",
   "metadata": {},
   "outputs": [],
   "source": [
    "# Exercise 11 - Create a markdown cell to indicate the Author's name"
   ]
  },
  {
   "cell_type": "markdown",
   "id": "cd6db9cd-ce10-4036-a7b0-cebd4920376e",
   "metadata": {},
   "source": [
    "## Author\n",
    "Shunichi Miyazu"
   ]
  }
 ],
 "metadata": {
  "kernelspec": {
   "display_name": "Python 3",
   "language": "python",
   "name": "python3"
  },
  "language_info": {
   "codemirror_mode": {
    "name": "ipython",
    "version": 3
   },
   "file_extension": ".py",
   "mimetype": "text/x-python",
   "name": "python",
   "nbconvert_exporter": "python",
   "pygments_lexer": "ipython3",
   "version": "3.8.8"
  }
 },
 "nbformat": 4,
 "nbformat_minor": 5
}
